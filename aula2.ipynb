{
 "cells": [
  {
   "cell_type": "code",
   "execution_count": 20,
   "metadata": {},
   "outputs": [
    {
     "name": "stdout",
     "output_type": "stream",
     "text": [
      "['Baixo', 'Bateria', 'Guitarra', 'Pastor', 'Golden', 'Vira-lata', 'Iphone', 'Xiaomi', 'Samsung']\n"
     ]
    }
   ],
   "source": [
    "#Ex 01 \n",
    "#Implementar uma função que receba uma lista de listas de comprimentos \n",
    "#quaisquer e retorne uma lista de uma dimensão.\n",
    "\n",
    "# Uma lista de listas\n",
    "instrumentos = ['Baixo', 'Bateria', 'Guitarra']\n",
    "cachorros = ['Pastor', 'Golden', 'Vira-lata']\n",
    "celulares = ['Iphone', 'Xiaomi', 'Samsung']\n",
    "\n",
    "# concatenação de listas\n",
    "newlist = instrumentos + cachorros + celulares\n",
    "\n",
    "# mostra a lista criada\n",
    "print (newlist)"
   ]
  },
  {
   "cell_type": "code",
   "execution_count": 41,
   "metadata": {},
   "outputs": [
    {
     "ename": "TypeError",
     "evalue": "'str' object is not callable",
     "output_type": "error",
     "traceback": [
      "\u001b[1;31m---------------------------------------------------------------------------\u001b[0m",
      "\u001b[1;31mTypeError\u001b[0m                                 Traceback (most recent call last)",
      "\u001b[1;32mc:\\Users\\Alexandre\\OneDrive\\Área de Trabalho\\engenharia de dados\\aula2.ipynb Célula: 2\u001b[0m in \u001b[0;36m<cell line: 8>\u001b[1;34m()\u001b[0m\n\u001b[0;32m      <a href='vscode-notebook-cell:/c%3A/Users/Alexandre/OneDrive/%C3%81rea%20de%20Trabalho/engenharia%20de%20dados/aula2.ipynb#ch0000001?line=3'>4</a>\u001b[0m Frase \u001b[39m=\u001b[39m \u001b[39m'\u001b[39m\u001b[39mrato roeu a roupa do rei de roma\u001b[39m\u001b[39m'\u001b[39m\n\u001b[0;32m      <a href='vscode-notebook-cell:/c%3A/Users/Alexandre/OneDrive/%C3%81rea%20de%20Trabalho/engenharia%20de%20dados/aula2.ipynb#ch0000001?line=5'>6</a>\u001b[0m invertida \u001b[39m=\u001b[39m Frase[::\u001b[39m-\u001b[39m\u001b[39m1\u001b[39m]\n\u001b[1;32m----> <a href='vscode-notebook-cell:/c%3A/Users/Alexandre/OneDrive/%C3%81rea%20de%20Trabalho/engenharia%20de%20dados/aula2.ipynb#ch0000001?line=7'>8</a>\u001b[0m \u001b[39mprint\u001b[39;49m(invertida)\n",
      "\u001b[1;31mTypeError\u001b[0m: 'str' object is not callable"
     ]
    }
   ],
   "source": [
    "#Ex 02\t\n",
    "#Escreva uma função que:\n",
    "#Receba uma frase como parâmetro.\n",
    "#Retorne uma nova frase com cada palavra com as letras invertidas.\n",
    "\n",
    "#Frase de parametro \n",
    "Frase = 'rato roeu a roupa do rei de roma'\n",
    "\n",
    "invertida = Frase[::-1]\n",
    "\n",
    "print(invertida) \n",
    "\n"
   ]
  },
  {
   "cell_type": "code",
   "execution_count": 74,
   "metadata": {},
   "outputs": [
    {
     "data": {
      "text/plain": [
       "500"
      ]
     },
     "execution_count": 74,
     "metadata": {},
     "output_type": "execute_result"
    }
   ],
   "source": [
    "#Ex 03\n",
    "#Faça um script que:\n",
    "#Leia um arquivo texto contendo 1 parágrafo de texto gerado pelo site: https://www.4devs.com.br/gerador_de_texto_lorem_ipsum.\n",
    "#Conte quantas palavras têm.\n",
    "\n",
    "#import library\n",
    "import string\n",
    "\n",
    "#Abertura do arquivo txt em modo read e atribuição do texto na variavel full\n",
    "with open('Lorem _Ipsum.txt.') as text:\n",
    "    full = text.read()\n",
    "\n",
    "# contagem das strings excuindo pontuação\n",
    "result = sum([i.strip(string.punctuation).isalpha() for i in full.split()])\n",
    "\n",
    "#print do resultado\n",
    "(result)\n"
   ]
  },
  {
   "cell_type": "markdown",
   "metadata": {},
   "source": [
    " EX 04\n",
    " Descreva o funcionamento das operações:\n",
    "\n",
    "Operações em Listas:\n",
    "Append()\n",
    "Remove()\n",
    "Reverse()\n",
    "len()\n",
    "max()\n",
    "count()\n",
    "\n",
    "Operações em Dicionários:\n",
    "Keys()\n",
    "Items()\n",
    "Values()\n"
   ]
  },
  {
   "cell_type": "code",
   "execution_count": null,
   "metadata": {},
   "outputs": [],
   "source": [
    "#Ex 05\n",
    "#Converta o dicionário my_dict =  {“a”: 15, “b”: 20, “c”: 44} em uma tupla contendo apenas os três valores do dicionário."
   ]
  },
  {
   "cell_type": "code",
   "execution_count": null,
   "metadata": {},
   "outputs": [],
   "source": [
    "#Ex 06 \n",
    "#Como gerar uma matriz 4x4 através do numpy em que cada elemento seja um número aleatório."
   ]
  },
  {
   "cell_type": "code",
   "execution_count": null,
   "metadata": {},
   "outputs": [],
   "source": [
    "#Ex 07 \n",
    "#Desenvolva uma função que receba como parâmetro um numpy array de dois elementos \n",
    "#Simbolizando as arestas de um retângulo. Com isso a função deve retornar a área do retângulo e o perímetro do retângulo."
   ]
  }
 ],
 "metadata": {
  "kernelspec": {
   "display_name": "Python 3.10.4 64-bit",
   "language": "python",
   "name": "python3"
  },
  "language_info": {
   "codemirror_mode": {
    "name": "ipython",
    "version": 3
   },
   "file_extension": ".py",
   "mimetype": "text/x-python",
   "name": "python",
   "nbconvert_exporter": "python",
   "pygments_lexer": "ipython3",
   "version": "3.10.4"
  },
  "orig_nbformat": 4,
  "vscode": {
   "interpreter": {
    "hash": "25072da81dc57fa72136c82e6d19718a14c5723642e18451d5b885d66dc079e9"
   }
  }
 },
 "nbformat": 4,
 "nbformat_minor": 2
}
