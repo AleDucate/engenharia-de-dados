{
 "cells": [
  {
   "cell_type": "code",
   "execution_count": 20,
   "metadata": {},
   "outputs": [
    {
     "name": "stdout",
     "output_type": "stream",
     "text": [
      "['Baixo', 'Bateria', 'Guitarra', 'Pastor', 'Golden', 'Vira-lata', 'Iphone', 'Xiaomi', 'Samsung']\n"
     ]
    }
   ],
   "source": [
    "#Ex 01 \n",
    "#Implementar uma função que receba uma lista de listas de comprimentos \n",
    "#quaisquer e retorne uma lista de uma dimensão.\n",
    "\n",
    "# Uma lista de listas\n",
    "instrumentos = ['Baixo', 'Bateria', 'Guitarra']\n",
    "cachorros = ['Pastor', 'Golden', 'Vira-lata']\n",
    "celulares = ['Iphone', 'Xiaomi', 'Samsung']\n",
    "\n",
    "# concatenação de listas\n",
    "newlist = instrumentos + cachorros + celulares\n",
    "\n",
    "# mostra a lista criada\n",
    "print (newlist)"
   ]
  },
  {
   "cell_type": "code",
   "execution_count": 13,
   "metadata": {},
   "outputs": [
    {
     "data": {
      "text/plain": [
       "'otar ueor a apuor od ier ed amor'"
      ]
     },
     "execution_count": 13,
     "metadata": {},
     "output_type": "execute_result"
    }
   ],
   "source": [
    "#Ex 02\t\n",
    "#Escreva uma função que:\n",
    "#Receba uma frase como parâmetro.\n",
    "#Retorne uma nova frase com cada palavra com as letras invertidas.\n",
    "\n",
    "#Frase de parametro \n",
    "Frase = str('rato roeu a roupa do rei de roma')\n",
    "\n",
    "\n",
    "invertida = str(' '.join(palavra[::-1] for palavra in Frase.split()))\n",
    "\n",
    "\n",
    "(invertida) \n",
    "\n"
   ]
  },
  {
   "cell_type": "code",
   "execution_count": 74,
   "metadata": {},
   "outputs": [
    {
     "data": {
      "text/plain": [
       "500"
      ]
     },
     "execution_count": 74,
     "metadata": {},
     "output_type": "execute_result"
    }
   ],
   "source": [
    "#Ex 03\n",
    "#Faça um script que:\n",
    "#Leia um arquivo texto contendo 1 parágrafo de texto gerado pelo site: https://www.4devs.com.br/gerador_de_texto_lorem_ipsum.\n",
    "#Conte quantas palavras têm.\n",
    "\n",
    "#import library\n",
    "import string\n",
    "\n",
    "#Abertura do arquivo txt em modo read e atribuição do texto na variavel full\n",
    "with open('Lorem _Ipsum.txt.') as text:\n",
    "    full = text.read()\n",
    "\n",
    "# contagem das strings excuindo pontuação\n",
    "result = sum([i.strip(string.punctuation).isalpha() for i in full.split()])\n",
    "\n",
    "#print do resultado\n",
    "(result)\n"
   ]
  },
  {
   "cell_type": "markdown",
   "metadata": {},
   "source": [
    " EX 04\n",
    " Descreva o funcionamento das operações:\n",
    "\n",
    "Operações em Listas:\n",
    "Append()\n",
    "Remove()\n",
    "Reverse()\n",
    "len()\n",
    "max()\n",
    "count()\n",
    "\n",
    "Operações em Dicionários:\n",
    "Keys()\n",
    "Items()\n",
    "Values()\n"
   ]
  },
  {
   "cell_type": "code",
   "execution_count": 8,
   "metadata": {},
   "outputs": [
    {
     "data": {
      "text/plain": [
       "(15, 20, 44)"
      ]
     },
     "execution_count": 8,
     "metadata": {},
     "output_type": "execute_result"
    }
   ],
   "source": [
    "#Ex 05\n",
    "#Converta o dicionário my_dict =  {“a”: 15, “b”: 20, “c”: 44} em uma tupla contendo apenas os três valores do dicionário.\n",
    "\n",
    "#Criando dicionário\n",
    "my_dict =  {\"a\": 15, \"b\": 20, \"c\": 44}\n",
    "\n",
    "#criação da Tupla\n",
    "tuple = my_dict['a'],  my_dict['b'], my_dict['c']\n",
    "\n",
    "#Print Tupla\n",
    "(tuple)\n",
    "\n",
    "\n",
    "\n"
   ]
  },
  {
   "cell_type": "code",
   "execution_count": 81,
   "metadata": {},
   "outputs": [
    {
     "data": {
      "text/plain": [
       "array([[ 83, 924, 581, 173],\n",
       "       [363, 594, 997, 487],\n",
       "       [206,  26, 890, 315],\n",
       "       [ 16,  42, 321, 533]])"
      ]
     },
     "execution_count": 81,
     "metadata": {},
     "output_type": "execute_result"
    }
   ],
   "source": [
    "#Ex 06 \n",
    "#Como gerar uma matriz 4x4 através do numpy em que cada elemento seja um número aleatório.\n",
    "\n",
    "#import rng\n",
    "from numpy.random import default_rng\n",
    "\n",
    "rng = default_rng()\n",
    "#criação da tabela com o range de 1-999 , tamanho 4x4 sem repetir nenhum número \n",
    "tabela = rng.choice(range(1, 999), size=(4, 4), replace=False)\n",
    "\n",
    "#print da tabela\n",
    "(tabela)"
   ]
  },
  {
   "cell_type": "code",
   "execution_count": 61,
   "metadata": {},
   "outputs": [
    {
     "data": {
      "text/plain": [
       "(26, 36)"
      ]
     },
     "execution_count": 61,
     "metadata": {},
     "output_type": "execute_result"
    }
   ],
   "source": [
    "#Ex 07 \n",
    "#Desenvolva uma função que receba como parâmetro um numpy array de dois elementos \n",
    "#Simbolizando as arestas de um retângulo. Com isso a função deve retornar a área do retângulo e o perímetro do retângulo.\n",
    "\n",
    "\n",
    "#importando lista numpy\n",
    "import numpy \n",
    "\n",
    "#função defenindo array numpy\n",
    "func = numpy.array([4, 9])\n",
    "\n",
    "#multiplicação do primeiro e segundo elemento da array\n",
    "area = func[1] * func[0]\n",
    "\n",
    "#multiplicação e posterior soma do primeiro e segundo elemento da array\n",
    "perimetro = func[1]*2 + func[0]*2 \n",
    "\n",
    "(perimetro, area)\n"
   ]
  }
 ],
 "metadata": {
  "kernelspec": {
   "display_name": "Python 3.10.4 64-bit",
   "language": "python",
   "name": "python3"
  },
  "language_info": {
   "codemirror_mode": {
    "name": "ipython",
    "version": 3
   },
   "file_extension": ".py",
   "mimetype": "text/x-python",
   "name": "python",
   "nbconvert_exporter": "python",
   "pygments_lexer": "ipython3",
   "version": "3.10.4"
  },
  "orig_nbformat": 4,
  "vscode": {
   "interpreter": {
    "hash": "25072da81dc57fa72136c82e6d19718a14c5723642e18451d5b885d66dc079e9"
   }
  }
 },
 "nbformat": 4,
 "nbformat_minor": 2
}
