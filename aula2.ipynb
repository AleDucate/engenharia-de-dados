{
 "cells": [
  {
   "cell_type": "code",
   "execution_count": 20,
   "metadata": {},
   "outputs": [
    {
     "name": "stdout",
     "output_type": "stream",
     "text": [
      "['Baixo', 'Bateria', 'Guitarra', 'Pastor', 'Golden', 'Vira-lata', 'Iphone', 'Xiaomi', 'Samsung']\n"
     ]
    }
   ],
   "source": [
    "#Ex 01\n",
    "\n",
    "# Uma lista de listas\n",
    "instrumentos = ['Baixo', 'Bateria', 'Guitarra']\n",
    "cachorros = ['Pastor', 'Golden', 'Vira-lata']\n",
    "celulares = ['Iphone', 'Xiaomi', 'Samsung']\n",
    "\n",
    "# concatenação de listas\n",
    "newlist = instrumentos + cachorros + celulares\n",
    "\n",
    "# mostra a lista criada\n",
    "print (newlist)"
   ]
  },
  {
   "cell_type": "code",
   "execution_count": 41,
   "metadata": {},
   "outputs": [
    {
     "ename": "TypeError",
     "evalue": "'str' object is not callable",
     "output_type": "error",
     "traceback": [
      "\u001b[1;31m---------------------------------------------------------------------------\u001b[0m",
      "\u001b[1;31mTypeError\u001b[0m                                 Traceback (most recent call last)",
      "\u001b[1;32mc:\\Users\\Alexandre\\OneDrive\\Área de Trabalho\\engenharia de dados\\aula2.ipynb Célula: 2\u001b[0m in \u001b[0;36m<cell line: 8>\u001b[1;34m()\u001b[0m\n\u001b[0;32m      <a href='vscode-notebook-cell:/c%3A/Users/Alexandre/OneDrive/%C3%81rea%20de%20Trabalho/engenharia%20de%20dados/aula2.ipynb#ch0000001?line=3'>4</a>\u001b[0m Frase \u001b[39m=\u001b[39m \u001b[39m'\u001b[39m\u001b[39mrato roeu a roupa do rei de roma\u001b[39m\u001b[39m'\u001b[39m\n\u001b[0;32m      <a href='vscode-notebook-cell:/c%3A/Users/Alexandre/OneDrive/%C3%81rea%20de%20Trabalho/engenharia%20de%20dados/aula2.ipynb#ch0000001?line=5'>6</a>\u001b[0m invertida \u001b[39m=\u001b[39m Frase[::\u001b[39m-\u001b[39m\u001b[39m1\u001b[39m]\n\u001b[1;32m----> <a href='vscode-notebook-cell:/c%3A/Users/Alexandre/OneDrive/%C3%81rea%20de%20Trabalho/engenharia%20de%20dados/aula2.ipynb#ch0000001?line=7'>8</a>\u001b[0m \u001b[39mprint\u001b[39;49m(invertida)\n",
      "\u001b[1;31mTypeError\u001b[0m: 'str' object is not callable"
     ]
    }
   ],
   "source": [
    "#Ex 02\n",
    "\n",
    "#Frase de parametro \n",
    "Frase = 'rato roeu a roupa do rei de roma'\n",
    "\n",
    "invertida = Frase[::-1]\n",
    "\n",
    "print(invertida) \n",
    "\n"
   ]
  },
  {
   "cell_type": "code",
   "execution_count": 35,
   "metadata": {},
   "outputs": [
    {
     "ename": "TypeError",
     "evalue": "'str' object is not callable",
     "output_type": "error",
     "traceback": [
      "\u001b[1;31m---------------------------------------------------------------------------\u001b[0m",
      "\u001b[1;31mTypeError\u001b[0m                                 Traceback (most recent call last)",
      "\u001b[1;32mc:\\Users\\Alexandre\\OneDrive\\Área de Trabalho\\engenharia de dados\\aula2.ipynb Célula: 3\u001b[0m in \u001b[0;36m<cell line: 3>\u001b[1;34m()\u001b[0m\n\u001b[0;32m      <a href='vscode-notebook-cell:/c%3A/Users/Alexandre/OneDrive/%C3%81rea%20de%20Trabalho/engenharia%20de%20dados/aula2.ipynb#ch0000002?line=0'>1</a>\u001b[0m frase \u001b[39m=\u001b[39m \u001b[39m'\u001b[39m\u001b[39mOi, tudo bem?     Blablabla\u001b[39m\u001b[39m'\u001b[39m\n\u001b[0;32m      <a href='vscode-notebook-cell:/c%3A/Users/Alexandre/OneDrive/%C3%81rea%20de%20Trabalho/engenharia%20de%20dados/aula2.ipynb#ch0000002?line=1'>2</a>\u001b[0m invertida \u001b[39m=\u001b[39m \u001b[39m'\u001b[39m\u001b[39m \u001b[39m\u001b[39m'\u001b[39m\u001b[39m.\u001b[39mjoin(palavra[::\u001b[39m-\u001b[39m\u001b[39m1\u001b[39m] \u001b[39mfor\u001b[39;00m palavra \u001b[39min\u001b[39;00m frase\u001b[39m.\u001b[39msplit())\n\u001b[1;32m----> <a href='vscode-notebook-cell:/c%3A/Users/Alexandre/OneDrive/%C3%81rea%20de%20Trabalho/engenharia%20de%20dados/aula2.ipynb#ch0000002?line=2'>3</a>\u001b[0m \u001b[39mprint\u001b[39;49m(invertida)\n",
      "\u001b[1;31mTypeError\u001b[0m: 'str' object is not callable"
     ]
    }
   ],
   "source": [
    "frase = 'Oi, tudo bem?     Blablabla'\n",
    "invertida = ' '.join(palavra[::-1] for palavra in frase.split())\n",
    "print(invertida)"
   ]
  }
 ],
 "metadata": {
  "kernelspec": {
   "display_name": "Python 3.10.4 64-bit",
   "language": "python",
   "name": "python3"
  },
  "language_info": {
   "codemirror_mode": {
    "name": "ipython",
    "version": 3
   },
   "file_extension": ".py",
   "mimetype": "text/x-python",
   "name": "python",
   "nbconvert_exporter": "python",
   "pygments_lexer": "ipython3",
   "version": "3.10.4"
  },
  "orig_nbformat": 4,
  "vscode": {
   "interpreter": {
    "hash": "25072da81dc57fa72136c82e6d19718a14c5723642e18451d5b885d66dc079e9"
   }
  }
 },
 "nbformat": 4,
 "nbformat_minor": 2
}
